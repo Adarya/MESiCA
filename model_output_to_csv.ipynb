{
 "cells": [
  {
   "cell_type": "code",
   "execution_count": 1,
   "metadata": {},
   "outputs": [],
   "source": [
    "import json\n",
    "import pandas as pd\n",
    "import numpy as np\n",
    "import torch\n",
    "import torch.nn as nn"
   ]
  },
  {
   "cell_type": "markdown",
   "metadata": {},
   "source": [
    "#load json & torch"
   ]
  },
  {
   "cell_type": "code",
   "execution_count": null,
   "metadata": {},
   "outputs": [],
   "source": [
    "proj = \"demo\"\n",
    "\n",
    "fd = json.load(open(\"ckpt/{}/feature_dict.json\".format(proj)))\n",
    "pm = json.load(open(\"ckpt/{}/patient_mapping.json\".format(proj)))\n",
    "p2c = json.load(open(\"ckpt/{}/pattern2col.json\".format(proj)))\n",
    "model = torch.load(\"ckpt/{}/19.pth\".format(proj), map_location=torch.device('cpu'))"
   ]
  },
  {
   "cell_type": "code",
   "execution_count": null,
   "metadata": {},
   "outputs": [],
   "source": [
    "param = model['embedding.weight']\n",
    "\n",
    "#Quality Control\n",
    "print(len(pm))\n",
    "print(len(p2c))\n",
    "print(len(fd))\n",
    "param.size()"
   ]
  },
  {
   "cell_type": "markdown",
   "metadata": {},
   "source": [
    "#Write csvs to disk"
   ]
  },
  {
   "cell_type": "code",
   "execution_count": 24,
   "metadata": {},
   "outputs": [],
   "source": [
    "pd.DataFrame(param.numpy()).to_csv(\"sig_label_{}_embeddings.csv\".format(proj))\n",
    "\n",
    "pm_df = pd.DataFrame.from_dict(pm).transpose()\n",
    "pm_df.to_csv(\"sig_label_{}_patient_mapping.csv\".format(proj))\n",
    "\n",
    "fd_df = pd.DataFrame(fd,index=[0]).transpose()\n",
    "fd_df.to_csv(\"sig_label_{}_feature_dict.csv\".format(proj))\n",
    "\n",
    "p2c_df = pd.DataFrame(p2c,index=[0]).transpose()\n",
    "p2c_df.to_csv(\"sig_label_{}_pattern2col.csv\".format(proj))"
   ]
  }
 ],
 "metadata": {
  "interpreter": {
   "hash": "674f954afdb144bb1fedee3cddc5db3e5244b308db44b51e504a9425312b0030"
  },
  "kernelspec": {
   "display_name": "Python 3.8.5 ('base')",
   "language": "python",
   "name": "python3"
  },
  "language_info": {
   "codemirror_mode": {
    "name": "ipython",
    "version": 3
   },
   "file_extension": ".py",
   "mimetype": "text/x-python",
   "name": "python",
   "nbconvert_exporter": "python",
   "pygments_lexer": "ipython3",
   "version": "3.8.8"
  },
  "orig_nbformat": 4
 },
 "nbformat": 4,
 "nbformat_minor": 2
}
